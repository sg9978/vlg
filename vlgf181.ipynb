{
  "nbformat": 4,
  "nbformat_minor": 0,
  "metadata": {
    "colab": {
      "provenance": [],
      "gpuType": "T4"
    },
    "kernelspec": {
      "name": "python3",
      "display_name": "Python 3"
    },
    "language_info": {
      "name": "python"
    },
    "accelerator": "GPU"
  },
  "cells": [
    {
      "cell_type": "code",
      "execution_count": 86,
      "metadata": {
        "id": "LiU7p1t4Y66x"
      },
      "outputs": [],
      "source": [
        "import pandas as pd\n",
        "import os\n",
        "import numpy as np\n",
        "import matplotlib.pyplot as plt\n",
        "from PIL import Image\n",
        "import keras\n",
        "from keras.utils import to_categorical\n",
        "from sklearn.model_selection import train_test_split\n",
        "from keras.applications.vgg16 import VGG16\n",
        "from keras.preprocessing import image\n",
        "from keras.applications.vgg16 import preprocess_input\n",
        "import numpy as np"
      ]
    },
    {
      "cell_type": "code",
      "source": [
        "dataset = pd.read_csv(r\"/content/train2.csv\")\n",
        "dataset1 = pd.read_csv(r\"/content/test2.csv\")"
      ],
      "metadata": {
        "id": "WKLg44UvZukS"
      },
      "execution_count": 87,
      "outputs": []
    },
    {
      "cell_type": "code",
      "source": [
        "dataset.head()\n"
      ],
      "metadata": {
        "colab": {
          "base_uri": "https://localhost:8080/",
          "height": 299
        },
        "id": "W94SI0-mbBxs",
        "outputId": "da0ea7c3-c820-4727-d4c5-7cebc39a2d34"
      },
      "execution_count": 88,
      "outputs": [
        {
          "output_type": "execute_result",
          "data": {
            "text/plain": [
              "        f_0       f_1       f_2       f_3       f_4       f_5       f_6  \\\n",
              "0 -2.033875  0.978446 -0.142131 -0.177117 -1.470684  1.669562 -0.196530   \n",
              "1 -0.348835  0.294815 -0.557577 -2.020773 -1.234715  1.633930 -1.680658   \n",
              "2  0.113248 -0.607726 -0.947791  0.830851  0.998291  0.498321 -1.493958   \n",
              "3  1.223321 -0.479048 -1.925789  1.680377  0.021840 -1.453307  0.605559   \n",
              "4  0.160109  0.422684 -0.308029  0.227744  0.432854  0.608348  0.193832   \n",
              "\n",
              "        f_7       f_8       f_9  ...    f_1191    f_1192    f_1193    f_1194  \\\n",
              "0 -0.125239 -0.452284 -0.128052  ...  0.716084  0.060039  0.301279 -1.174846   \n",
              "1 -0.358146  0.166122 -1.656990  ...  0.829781  1.521941  1.347946  0.754505   \n",
              "2  0.789572 -1.311018  0.848524  ...  0.616189 -1.035953  2.111387 -0.984415   \n",
              "3 -0.019024  1.065448  0.717341  ... -1.957863 -0.123384  1.505329  0.660290   \n",
              "4  1.035091 -0.538868  0.778445  ...  1.441766  0.212572 -0.994721  1.143999   \n",
              "\n",
              "     f_1195    f_1196    f_1197    f_1198    f_1199  labels  \n",
              "0 -1.076498 -0.069452 -0.604012 -2.179176  0.558003       0  \n",
              "1  1.330642 -0.754453  0.582956  0.252671  1.495870       1  \n",
              "2  1.148076 -1.433554  0.243372  0.170083  1.274795       1  \n",
              "3 -1.769443 -0.547756 -0.568122  0.244645  0.982116       0  \n",
              "4 -2.166923 -1.199248 -1.028636  0.752791  0.317169       0  \n",
              "\n",
              "[5 rows x 1201 columns]"
            ],
            "text/html": [
              "\n",
              "  <div id=\"df-8bdfd4d8-6e29-40a1-b211-944586babf01\">\n",
              "    <div class=\"colab-df-container\">\n",
              "      <div>\n",
              "<style scoped>\n",
              "    .dataframe tbody tr th:only-of-type {\n",
              "        vertical-align: middle;\n",
              "    }\n",
              "\n",
              "    .dataframe tbody tr th {\n",
              "        vertical-align: top;\n",
              "    }\n",
              "\n",
              "    .dataframe thead th {\n",
              "        text-align: right;\n",
              "    }\n",
              "</style>\n",
              "<table border=\"1\" class=\"dataframe\">\n",
              "  <thead>\n",
              "    <tr style=\"text-align: right;\">\n",
              "      <th></th>\n",
              "      <th>f_0</th>\n",
              "      <th>f_1</th>\n",
              "      <th>f_2</th>\n",
              "      <th>f_3</th>\n",
              "      <th>f_4</th>\n",
              "      <th>f_5</th>\n",
              "      <th>f_6</th>\n",
              "      <th>f_7</th>\n",
              "      <th>f_8</th>\n",
              "      <th>f_9</th>\n",
              "      <th>...</th>\n",
              "      <th>f_1191</th>\n",
              "      <th>f_1192</th>\n",
              "      <th>f_1193</th>\n",
              "      <th>f_1194</th>\n",
              "      <th>f_1195</th>\n",
              "      <th>f_1196</th>\n",
              "      <th>f_1197</th>\n",
              "      <th>f_1198</th>\n",
              "      <th>f_1199</th>\n",
              "      <th>labels</th>\n",
              "    </tr>\n",
              "  </thead>\n",
              "  <tbody>\n",
              "    <tr>\n",
              "      <th>0</th>\n",
              "      <td>-2.033875</td>\n",
              "      <td>0.978446</td>\n",
              "      <td>-0.142131</td>\n",
              "      <td>-0.177117</td>\n",
              "      <td>-1.470684</td>\n",
              "      <td>1.669562</td>\n",
              "      <td>-0.196530</td>\n",
              "      <td>-0.125239</td>\n",
              "      <td>-0.452284</td>\n",
              "      <td>-0.128052</td>\n",
              "      <td>...</td>\n",
              "      <td>0.716084</td>\n",
              "      <td>0.060039</td>\n",
              "      <td>0.301279</td>\n",
              "      <td>-1.174846</td>\n",
              "      <td>-1.076498</td>\n",
              "      <td>-0.069452</td>\n",
              "      <td>-0.604012</td>\n",
              "      <td>-2.179176</td>\n",
              "      <td>0.558003</td>\n",
              "      <td>0</td>\n",
              "    </tr>\n",
              "    <tr>\n",
              "      <th>1</th>\n",
              "      <td>-0.348835</td>\n",
              "      <td>0.294815</td>\n",
              "      <td>-0.557577</td>\n",
              "      <td>-2.020773</td>\n",
              "      <td>-1.234715</td>\n",
              "      <td>1.633930</td>\n",
              "      <td>-1.680658</td>\n",
              "      <td>-0.358146</td>\n",
              "      <td>0.166122</td>\n",
              "      <td>-1.656990</td>\n",
              "      <td>...</td>\n",
              "      <td>0.829781</td>\n",
              "      <td>1.521941</td>\n",
              "      <td>1.347946</td>\n",
              "      <td>0.754505</td>\n",
              "      <td>1.330642</td>\n",
              "      <td>-0.754453</td>\n",
              "      <td>0.582956</td>\n",
              "      <td>0.252671</td>\n",
              "      <td>1.495870</td>\n",
              "      <td>1</td>\n",
              "    </tr>\n",
              "    <tr>\n",
              "      <th>2</th>\n",
              "      <td>0.113248</td>\n",
              "      <td>-0.607726</td>\n",
              "      <td>-0.947791</td>\n",
              "      <td>0.830851</td>\n",
              "      <td>0.998291</td>\n",
              "      <td>0.498321</td>\n",
              "      <td>-1.493958</td>\n",
              "      <td>0.789572</td>\n",
              "      <td>-1.311018</td>\n",
              "      <td>0.848524</td>\n",
              "      <td>...</td>\n",
              "      <td>0.616189</td>\n",
              "      <td>-1.035953</td>\n",
              "      <td>2.111387</td>\n",
              "      <td>-0.984415</td>\n",
              "      <td>1.148076</td>\n",
              "      <td>-1.433554</td>\n",
              "      <td>0.243372</td>\n",
              "      <td>0.170083</td>\n",
              "      <td>1.274795</td>\n",
              "      <td>1</td>\n",
              "    </tr>\n",
              "    <tr>\n",
              "      <th>3</th>\n",
              "      <td>1.223321</td>\n",
              "      <td>-0.479048</td>\n",
              "      <td>-1.925789</td>\n",
              "      <td>1.680377</td>\n",
              "      <td>0.021840</td>\n",
              "      <td>-1.453307</td>\n",
              "      <td>0.605559</td>\n",
              "      <td>-0.019024</td>\n",
              "      <td>1.065448</td>\n",
              "      <td>0.717341</td>\n",
              "      <td>...</td>\n",
              "      <td>-1.957863</td>\n",
              "      <td>-0.123384</td>\n",
              "      <td>1.505329</td>\n",
              "      <td>0.660290</td>\n",
              "      <td>-1.769443</td>\n",
              "      <td>-0.547756</td>\n",
              "      <td>-0.568122</td>\n",
              "      <td>0.244645</td>\n",
              "      <td>0.982116</td>\n",
              "      <td>0</td>\n",
              "    </tr>\n",
              "    <tr>\n",
              "      <th>4</th>\n",
              "      <td>0.160109</td>\n",
              "      <td>0.422684</td>\n",
              "      <td>-0.308029</td>\n",
              "      <td>0.227744</td>\n",
              "      <td>0.432854</td>\n",
              "      <td>0.608348</td>\n",
              "      <td>0.193832</td>\n",
              "      <td>1.035091</td>\n",
              "      <td>-0.538868</td>\n",
              "      <td>0.778445</td>\n",
              "      <td>...</td>\n",
              "      <td>1.441766</td>\n",
              "      <td>0.212572</td>\n",
              "      <td>-0.994721</td>\n",
              "      <td>1.143999</td>\n",
              "      <td>-2.166923</td>\n",
              "      <td>-1.199248</td>\n",
              "      <td>-1.028636</td>\n",
              "      <td>0.752791</td>\n",
              "      <td>0.317169</td>\n",
              "      <td>0</td>\n",
              "    </tr>\n",
              "  </tbody>\n",
              "</table>\n",
              "<p>5 rows × 1201 columns</p>\n",
              "</div>\n",
              "      <button class=\"colab-df-convert\" onclick=\"convertToInteractive('df-8bdfd4d8-6e29-40a1-b211-944586babf01')\"\n",
              "              title=\"Convert this dataframe to an interactive table.\"\n",
              "              style=\"display:none;\">\n",
              "        \n",
              "  <svg xmlns=\"http://www.w3.org/2000/svg\" height=\"24px\"viewBox=\"0 0 24 24\"\n",
              "       width=\"24px\">\n",
              "    <path d=\"M0 0h24v24H0V0z\" fill=\"none\"/>\n",
              "    <path d=\"M18.56 5.44l.94 2.06.94-2.06 2.06-.94-2.06-.94-.94-2.06-.94 2.06-2.06.94zm-11 1L8.5 8.5l.94-2.06 2.06-.94-2.06-.94L8.5 2.5l-.94 2.06-2.06.94zm10 10l.94 2.06.94-2.06 2.06-.94-2.06-.94-.94-2.06-.94 2.06-2.06.94z\"/><path d=\"M17.41 7.96l-1.37-1.37c-.4-.4-.92-.59-1.43-.59-.52 0-1.04.2-1.43.59L10.3 9.45l-7.72 7.72c-.78.78-.78 2.05 0 2.83L4 21.41c.39.39.9.59 1.41.59.51 0 1.02-.2 1.41-.59l7.78-7.78 2.81-2.81c.8-.78.8-2.07 0-2.86zM5.41 20L4 18.59l7.72-7.72 1.47 1.35L5.41 20z\"/>\n",
              "  </svg>\n",
              "      </button>\n",
              "      \n",
              "  <style>\n",
              "    .colab-df-container {\n",
              "      display:flex;\n",
              "      flex-wrap:wrap;\n",
              "      gap: 12px;\n",
              "    }\n",
              "\n",
              "    .colab-df-convert {\n",
              "      background-color: #E8F0FE;\n",
              "      border: none;\n",
              "      border-radius: 50%;\n",
              "      cursor: pointer;\n",
              "      display: none;\n",
              "      fill: #1967D2;\n",
              "      height: 32px;\n",
              "      padding: 0 0 0 0;\n",
              "      width: 32px;\n",
              "    }\n",
              "\n",
              "    .colab-df-convert:hover {\n",
              "      background-color: #E2EBFA;\n",
              "      box-shadow: 0px 1px 2px rgba(60, 64, 67, 0.3), 0px 1px 3px 1px rgba(60, 64, 67, 0.15);\n",
              "      fill: #174EA6;\n",
              "    }\n",
              "\n",
              "    [theme=dark] .colab-df-convert {\n",
              "      background-color: #3B4455;\n",
              "      fill: #D2E3FC;\n",
              "    }\n",
              "\n",
              "    [theme=dark] .colab-df-convert:hover {\n",
              "      background-color: #434B5C;\n",
              "      box-shadow: 0px 1px 3px 1px rgba(0, 0, 0, 0.15);\n",
              "      filter: drop-shadow(0px 1px 2px rgba(0, 0, 0, 0.3));\n",
              "      fill: #FFFFFF;\n",
              "    }\n",
              "  </style>\n",
              "\n",
              "      <script>\n",
              "        const buttonEl =\n",
              "          document.querySelector('#df-8bdfd4d8-6e29-40a1-b211-944586babf01 button.colab-df-convert');\n",
              "        buttonEl.style.display =\n",
              "          google.colab.kernel.accessAllowed ? 'block' : 'none';\n",
              "\n",
              "        async function convertToInteractive(key) {\n",
              "          const element = document.querySelector('#df-8bdfd4d8-6e29-40a1-b211-944586babf01');\n",
              "          const dataTable =\n",
              "            await google.colab.kernel.invokeFunction('convertToInteractive',\n",
              "                                                     [key], {});\n",
              "          if (!dataTable) return;\n",
              "\n",
              "          const docLinkHtml = 'Like what you see? Visit the ' +\n",
              "            '<a target=\"_blank\" href=https://colab.research.google.com/notebooks/data_table.ipynb>data table notebook</a>'\n",
              "            + ' to learn more about interactive tables.';\n",
              "          element.innerHTML = '';\n",
              "          dataTable['output_type'] = 'display_data';\n",
              "          await google.colab.output.renderOutput(dataTable, element);\n",
              "          const docLink = document.createElement('div');\n",
              "          docLink.innerHTML = docLinkHtml;\n",
              "          element.appendChild(docLink);\n",
              "        }\n",
              "      </script>\n",
              "    </div>\n",
              "  </div>\n",
              "  "
            ]
          },
          "metadata": {},
          "execution_count": 88
        }
      ]
    },
    {
      "cell_type": "code",
      "source": [
        "dataset.isna().sum()"
      ],
      "metadata": {
        "colab": {
          "base_uri": "https://localhost:8080/"
        },
        "id": "BD1sMsF9e6dC",
        "outputId": "121357c6-165d-425e-d1d0-c4cc3e3ec8da"
      },
      "execution_count": 89,
      "outputs": [
        {
          "output_type": "execute_result",
          "data": {
            "text/plain": [
              "f_0       0\n",
              "f_1       0\n",
              "f_2       0\n",
              "f_3       0\n",
              "f_4       0\n",
              "         ..\n",
              "f_1196    0\n",
              "f_1197    0\n",
              "f_1198    0\n",
              "f_1199    0\n",
              "labels    0\n",
              "Length: 1201, dtype: int64"
            ]
          },
          "metadata": {},
          "execution_count": 89
        }
      ]
    },
    {
      "cell_type": "code",
      "source": [
        "dataset.dropna(axis=0,inplace=True)"
      ],
      "metadata": {
        "id": "5RutCBhFe6og"
      },
      "execution_count": 90,
      "outputs": []
    },
    {
      "cell_type": "code",
      "source": [
        "dataset.isna().sum()"
      ],
      "metadata": {
        "colab": {
          "base_uri": "https://localhost:8080/"
        },
        "id": "P7MDQSUgfg1i",
        "outputId": "5bcbb99e-b715-40b9-b09d-d4c869cf60b6"
      },
      "execution_count": 91,
      "outputs": [
        {
          "output_type": "execute_result",
          "data": {
            "text/plain": [
              "f_0       0\n",
              "f_1       0\n",
              "f_2       0\n",
              "f_3       0\n",
              "f_4       0\n",
              "         ..\n",
              "f_1196    0\n",
              "f_1197    0\n",
              "f_1198    0\n",
              "f_1199    0\n",
              "labels    0\n",
              "Length: 1201, dtype: int64"
            ]
          },
          "metadata": {},
          "execution_count": 91
        }
      ]
    },
    {
      "cell_type": "code",
      "source": [
        "dataset1.isna().sum()"
      ],
      "metadata": {
        "colab": {
          "base_uri": "https://localhost:8080/"
        },
        "id": "lAVtWPzQgjXP",
        "outputId": "6c672fd6-57a8-4435-b895-ef86598afec8"
      },
      "execution_count": 92,
      "outputs": [
        {
          "output_type": "execute_result",
          "data": {
            "text/plain": [
              "f_0       0\n",
              "f_1       0\n",
              "f_2       0\n",
              "f_3       0\n",
              "f_4       0\n",
              "         ..\n",
              "f_1196    0\n",
              "f_1197    0\n",
              "f_1198    0\n",
              "f_1199    0\n",
              "id        0\n",
              "Length: 1201, dtype: int64"
            ]
          },
          "metadata": {},
          "execution_count": 92
        }
      ]
    },
    {
      "cell_type": "code",
      "source": [
        "dataset.dropna(axis=0,inplace=True)"
      ],
      "metadata": {
        "id": "ifwilqyHgjbW"
      },
      "execution_count": 93,
      "outputs": []
    },
    {
      "cell_type": "code",
      "source": [
        "X_train = dataset.iloc[:,0:1199]\n",
        "y_train_string = dataset.iloc[:,1200]\n",
        "X_test = dataset1.iloc[:,0:1199]\n"
      ],
      "metadata": {
        "id": "UpimY_xKfmNz"
      },
      "execution_count": 94,
      "outputs": []
    },
    {
      "cell_type": "code",
      "source": [
        "X_train.describe()"
      ],
      "metadata": {
        "colab": {
          "base_uri": "https://localhost:8080/",
          "height": 393
        },
        "id": "6B3KN4fJfmTB",
        "outputId": "d4d50b5e-5f2c-4136-f523-31549f97ebee"
      },
      "execution_count": 95,
      "outputs": [
        {
          "output_type": "execute_result",
          "data": {
            "text/plain": [
              "               f_0          f_1          f_2          f_3          f_4  \\\n",
              "count  5250.000000  5250.000000  5250.000000  5250.000000  5250.000000   \n",
              "mean      0.385453     0.086769     0.317084     0.400414     0.093063   \n",
              "std       0.929075     0.898979     0.969380     0.954504     0.968625   \n",
              "min      -3.462941    -3.605773    -4.078232    -3.344323    -3.613712   \n",
              "25%      -0.286854    -0.470281    -0.379984    -0.290078    -0.644337   \n",
              "50%       0.598422     0.071867     0.518698     0.653512     0.141549   \n",
              "75%       1.108212     0.609769     1.085552     1.135854     0.950304   \n",
              "max       3.439295     3.581171     3.991985     3.900672     3.488667   \n",
              "\n",
              "               f_5          f_6          f_7          f_8          f_9  ...  \\\n",
              "count  5250.000000  5250.000000  5250.000000  5250.000000  5250.000000  ...   \n",
              "mean      0.173532    -0.174072    -0.074659    -0.135957     0.235435  ...   \n",
              "std       0.895351     1.001566     0.906168     0.972163     0.868382  ...   \n",
              "min      -3.319666    -3.627701    -3.528635    -4.503662    -3.419690  ...   \n",
              "25%      -0.392807    -0.980593    -0.677763    -0.914803    -0.284657  ...   \n",
              "50%       0.237502    -0.180645    -0.159631    -0.108885     0.307975  ...   \n",
              "75%       0.747622     0.621790     0.450741     0.627055     0.812912  ...   \n",
              "max       3.193113     3.062756     3.877255     3.017000     3.861090  ...   \n",
              "\n",
              "            f_1189       f_1190       f_1191       f_1192       f_1193  \\\n",
              "count  5250.000000  5250.000000  5250.000000  5250.000000  5250.000000   \n",
              "mean      0.140791     0.417874    -0.405061     0.091497    -0.276132   \n",
              "std       0.954373     0.941354     1.054231     0.958970     0.989820   \n",
              "min      -3.421379    -3.684054    -3.385650    -3.162629    -3.022903   \n",
              "25%      -0.533848    -0.254776    -1.265848    -0.594289    -1.054700   \n",
              "50%       0.240526     0.648944    -0.489479     0.192821    -0.301887   \n",
              "75%       0.849412     1.131876     0.366639     0.779280     0.409370   \n",
              "max       3.091403     4.077517     3.550058     3.790435     3.907684   \n",
              "\n",
              "            f_1194       f_1195       f_1196       f_1197       f_1198  \n",
              "count  5250.000000  5250.000000  5250.000000  5250.000000  5250.000000  \n",
              "mean     -0.133123    -0.156475    -0.096026     0.372260    -0.222551  \n",
              "std       1.042036     1.019384     0.913732     0.944429     0.973640  \n",
              "min      -3.698249    -4.791005    -3.356509    -3.933762    -4.174752  \n",
              "25%      -1.009256    -0.833164    -0.684567    -0.301254    -1.010557  \n",
              "50%      -0.139792    -0.197277    -0.156927     0.612440    -0.241763  \n",
              "75%       0.740059     0.493094     0.434146     1.109200     0.508097  \n",
              "max       3.777545     3.269490     3.526907     3.542401     3.642856  \n",
              "\n",
              "[8 rows x 1199 columns]"
            ],
            "text/html": [
              "\n",
              "  <div id=\"df-01386351-4c8d-4973-877b-46f15ec7864d\">\n",
              "    <div class=\"colab-df-container\">\n",
              "      <div>\n",
              "<style scoped>\n",
              "    .dataframe tbody tr th:only-of-type {\n",
              "        vertical-align: middle;\n",
              "    }\n",
              "\n",
              "    .dataframe tbody tr th {\n",
              "        vertical-align: top;\n",
              "    }\n",
              "\n",
              "    .dataframe thead th {\n",
              "        text-align: right;\n",
              "    }\n",
              "</style>\n",
              "<table border=\"1\" class=\"dataframe\">\n",
              "  <thead>\n",
              "    <tr style=\"text-align: right;\">\n",
              "      <th></th>\n",
              "      <th>f_0</th>\n",
              "      <th>f_1</th>\n",
              "      <th>f_2</th>\n",
              "      <th>f_3</th>\n",
              "      <th>f_4</th>\n",
              "      <th>f_5</th>\n",
              "      <th>f_6</th>\n",
              "      <th>f_7</th>\n",
              "      <th>f_8</th>\n",
              "      <th>f_9</th>\n",
              "      <th>...</th>\n",
              "      <th>f_1189</th>\n",
              "      <th>f_1190</th>\n",
              "      <th>f_1191</th>\n",
              "      <th>f_1192</th>\n",
              "      <th>f_1193</th>\n",
              "      <th>f_1194</th>\n",
              "      <th>f_1195</th>\n",
              "      <th>f_1196</th>\n",
              "      <th>f_1197</th>\n",
              "      <th>f_1198</th>\n",
              "    </tr>\n",
              "  </thead>\n",
              "  <tbody>\n",
              "    <tr>\n",
              "      <th>count</th>\n",
              "      <td>5250.000000</td>\n",
              "      <td>5250.000000</td>\n",
              "      <td>5250.000000</td>\n",
              "      <td>5250.000000</td>\n",
              "      <td>5250.000000</td>\n",
              "      <td>5250.000000</td>\n",
              "      <td>5250.000000</td>\n",
              "      <td>5250.000000</td>\n",
              "      <td>5250.000000</td>\n",
              "      <td>5250.000000</td>\n",
              "      <td>...</td>\n",
              "      <td>5250.000000</td>\n",
              "      <td>5250.000000</td>\n",
              "      <td>5250.000000</td>\n",
              "      <td>5250.000000</td>\n",
              "      <td>5250.000000</td>\n",
              "      <td>5250.000000</td>\n",
              "      <td>5250.000000</td>\n",
              "      <td>5250.000000</td>\n",
              "      <td>5250.000000</td>\n",
              "      <td>5250.000000</td>\n",
              "    </tr>\n",
              "    <tr>\n",
              "      <th>mean</th>\n",
              "      <td>0.385453</td>\n",
              "      <td>0.086769</td>\n",
              "      <td>0.317084</td>\n",
              "      <td>0.400414</td>\n",
              "      <td>0.093063</td>\n",
              "      <td>0.173532</td>\n",
              "      <td>-0.174072</td>\n",
              "      <td>-0.074659</td>\n",
              "      <td>-0.135957</td>\n",
              "      <td>0.235435</td>\n",
              "      <td>...</td>\n",
              "      <td>0.140791</td>\n",
              "      <td>0.417874</td>\n",
              "      <td>-0.405061</td>\n",
              "      <td>0.091497</td>\n",
              "      <td>-0.276132</td>\n",
              "      <td>-0.133123</td>\n",
              "      <td>-0.156475</td>\n",
              "      <td>-0.096026</td>\n",
              "      <td>0.372260</td>\n",
              "      <td>-0.222551</td>\n",
              "    </tr>\n",
              "    <tr>\n",
              "      <th>std</th>\n",
              "      <td>0.929075</td>\n",
              "      <td>0.898979</td>\n",
              "      <td>0.969380</td>\n",
              "      <td>0.954504</td>\n",
              "      <td>0.968625</td>\n",
              "      <td>0.895351</td>\n",
              "      <td>1.001566</td>\n",
              "      <td>0.906168</td>\n",
              "      <td>0.972163</td>\n",
              "      <td>0.868382</td>\n",
              "      <td>...</td>\n",
              "      <td>0.954373</td>\n",
              "      <td>0.941354</td>\n",
              "      <td>1.054231</td>\n",
              "      <td>0.958970</td>\n",
              "      <td>0.989820</td>\n",
              "      <td>1.042036</td>\n",
              "      <td>1.019384</td>\n",
              "      <td>0.913732</td>\n",
              "      <td>0.944429</td>\n",
              "      <td>0.973640</td>\n",
              "    </tr>\n",
              "    <tr>\n",
              "      <th>min</th>\n",
              "      <td>-3.462941</td>\n",
              "      <td>-3.605773</td>\n",
              "      <td>-4.078232</td>\n",
              "      <td>-3.344323</td>\n",
              "      <td>-3.613712</td>\n",
              "      <td>-3.319666</td>\n",
              "      <td>-3.627701</td>\n",
              "      <td>-3.528635</td>\n",
              "      <td>-4.503662</td>\n",
              "      <td>-3.419690</td>\n",
              "      <td>...</td>\n",
              "      <td>-3.421379</td>\n",
              "      <td>-3.684054</td>\n",
              "      <td>-3.385650</td>\n",
              "      <td>-3.162629</td>\n",
              "      <td>-3.022903</td>\n",
              "      <td>-3.698249</td>\n",
              "      <td>-4.791005</td>\n",
              "      <td>-3.356509</td>\n",
              "      <td>-3.933762</td>\n",
              "      <td>-4.174752</td>\n",
              "    </tr>\n",
              "    <tr>\n",
              "      <th>25%</th>\n",
              "      <td>-0.286854</td>\n",
              "      <td>-0.470281</td>\n",
              "      <td>-0.379984</td>\n",
              "      <td>-0.290078</td>\n",
              "      <td>-0.644337</td>\n",
              "      <td>-0.392807</td>\n",
              "      <td>-0.980593</td>\n",
              "      <td>-0.677763</td>\n",
              "      <td>-0.914803</td>\n",
              "      <td>-0.284657</td>\n",
              "      <td>...</td>\n",
              "      <td>-0.533848</td>\n",
              "      <td>-0.254776</td>\n",
              "      <td>-1.265848</td>\n",
              "      <td>-0.594289</td>\n",
              "      <td>-1.054700</td>\n",
              "      <td>-1.009256</td>\n",
              "      <td>-0.833164</td>\n",
              "      <td>-0.684567</td>\n",
              "      <td>-0.301254</td>\n",
              "      <td>-1.010557</td>\n",
              "    </tr>\n",
              "    <tr>\n",
              "      <th>50%</th>\n",
              "      <td>0.598422</td>\n",
              "      <td>0.071867</td>\n",
              "      <td>0.518698</td>\n",
              "      <td>0.653512</td>\n",
              "      <td>0.141549</td>\n",
              "      <td>0.237502</td>\n",
              "      <td>-0.180645</td>\n",
              "      <td>-0.159631</td>\n",
              "      <td>-0.108885</td>\n",
              "      <td>0.307975</td>\n",
              "      <td>...</td>\n",
              "      <td>0.240526</td>\n",
              "      <td>0.648944</td>\n",
              "      <td>-0.489479</td>\n",
              "      <td>0.192821</td>\n",
              "      <td>-0.301887</td>\n",
              "      <td>-0.139792</td>\n",
              "      <td>-0.197277</td>\n",
              "      <td>-0.156927</td>\n",
              "      <td>0.612440</td>\n",
              "      <td>-0.241763</td>\n",
              "    </tr>\n",
              "    <tr>\n",
              "      <th>75%</th>\n",
              "      <td>1.108212</td>\n",
              "      <td>0.609769</td>\n",
              "      <td>1.085552</td>\n",
              "      <td>1.135854</td>\n",
              "      <td>0.950304</td>\n",
              "      <td>0.747622</td>\n",
              "      <td>0.621790</td>\n",
              "      <td>0.450741</td>\n",
              "      <td>0.627055</td>\n",
              "      <td>0.812912</td>\n",
              "      <td>...</td>\n",
              "      <td>0.849412</td>\n",
              "      <td>1.131876</td>\n",
              "      <td>0.366639</td>\n",
              "      <td>0.779280</td>\n",
              "      <td>0.409370</td>\n",
              "      <td>0.740059</td>\n",
              "      <td>0.493094</td>\n",
              "      <td>0.434146</td>\n",
              "      <td>1.109200</td>\n",
              "      <td>0.508097</td>\n",
              "    </tr>\n",
              "    <tr>\n",
              "      <th>max</th>\n",
              "      <td>3.439295</td>\n",
              "      <td>3.581171</td>\n",
              "      <td>3.991985</td>\n",
              "      <td>3.900672</td>\n",
              "      <td>3.488667</td>\n",
              "      <td>3.193113</td>\n",
              "      <td>3.062756</td>\n",
              "      <td>3.877255</td>\n",
              "      <td>3.017000</td>\n",
              "      <td>3.861090</td>\n",
              "      <td>...</td>\n",
              "      <td>3.091403</td>\n",
              "      <td>4.077517</td>\n",
              "      <td>3.550058</td>\n",
              "      <td>3.790435</td>\n",
              "      <td>3.907684</td>\n",
              "      <td>3.777545</td>\n",
              "      <td>3.269490</td>\n",
              "      <td>3.526907</td>\n",
              "      <td>3.542401</td>\n",
              "      <td>3.642856</td>\n",
              "    </tr>\n",
              "  </tbody>\n",
              "</table>\n",
              "<p>8 rows × 1199 columns</p>\n",
              "</div>\n",
              "      <button class=\"colab-df-convert\" onclick=\"convertToInteractive('df-01386351-4c8d-4973-877b-46f15ec7864d')\"\n",
              "              title=\"Convert this dataframe to an interactive table.\"\n",
              "              style=\"display:none;\">\n",
              "        \n",
              "  <svg xmlns=\"http://www.w3.org/2000/svg\" height=\"24px\"viewBox=\"0 0 24 24\"\n",
              "       width=\"24px\">\n",
              "    <path d=\"M0 0h24v24H0V0z\" fill=\"none\"/>\n",
              "    <path d=\"M18.56 5.44l.94 2.06.94-2.06 2.06-.94-2.06-.94-.94-2.06-.94 2.06-2.06.94zm-11 1L8.5 8.5l.94-2.06 2.06-.94-2.06-.94L8.5 2.5l-.94 2.06-2.06.94zm10 10l.94 2.06.94-2.06 2.06-.94-2.06-.94-.94-2.06-.94 2.06-2.06.94z\"/><path d=\"M17.41 7.96l-1.37-1.37c-.4-.4-.92-.59-1.43-.59-.52 0-1.04.2-1.43.59L10.3 9.45l-7.72 7.72c-.78.78-.78 2.05 0 2.83L4 21.41c.39.39.9.59 1.41.59.51 0 1.02-.2 1.41-.59l7.78-7.78 2.81-2.81c.8-.78.8-2.07 0-2.86zM5.41 20L4 18.59l7.72-7.72 1.47 1.35L5.41 20z\"/>\n",
              "  </svg>\n",
              "      </button>\n",
              "      \n",
              "  <style>\n",
              "    .colab-df-container {\n",
              "      display:flex;\n",
              "      flex-wrap:wrap;\n",
              "      gap: 12px;\n",
              "    }\n",
              "\n",
              "    .colab-df-convert {\n",
              "      background-color: #E8F0FE;\n",
              "      border: none;\n",
              "      border-radius: 50%;\n",
              "      cursor: pointer;\n",
              "      display: none;\n",
              "      fill: #1967D2;\n",
              "      height: 32px;\n",
              "      padding: 0 0 0 0;\n",
              "      width: 32px;\n",
              "    }\n",
              "\n",
              "    .colab-df-convert:hover {\n",
              "      background-color: #E2EBFA;\n",
              "      box-shadow: 0px 1px 2px rgba(60, 64, 67, 0.3), 0px 1px 3px 1px rgba(60, 64, 67, 0.15);\n",
              "      fill: #174EA6;\n",
              "    }\n",
              "\n",
              "    [theme=dark] .colab-df-convert {\n",
              "      background-color: #3B4455;\n",
              "      fill: #D2E3FC;\n",
              "    }\n",
              "\n",
              "    [theme=dark] .colab-df-convert:hover {\n",
              "      background-color: #434B5C;\n",
              "      box-shadow: 0px 1px 3px 1px rgba(0, 0, 0, 0.15);\n",
              "      filter: drop-shadow(0px 1px 2px rgba(0, 0, 0, 0.3));\n",
              "      fill: #FFFFFF;\n",
              "    }\n",
              "  </style>\n",
              "\n",
              "      <script>\n",
              "        const buttonEl =\n",
              "          document.querySelector('#df-01386351-4c8d-4973-877b-46f15ec7864d button.colab-df-convert');\n",
              "        buttonEl.style.display =\n",
              "          google.colab.kernel.accessAllowed ? 'block' : 'none';\n",
              "\n",
              "        async function convertToInteractive(key) {\n",
              "          const element = document.querySelector('#df-01386351-4c8d-4973-877b-46f15ec7864d');\n",
              "          const dataTable =\n",
              "            await google.colab.kernel.invokeFunction('convertToInteractive',\n",
              "                                                     [key], {});\n",
              "          if (!dataTable) return;\n",
              "\n",
              "          const docLinkHtml = 'Like what you see? Visit the ' +\n",
              "            '<a target=\"_blank\" href=https://colab.research.google.com/notebooks/data_table.ipynb>data table notebook</a>'\n",
              "            + ' to learn more about interactive tables.';\n",
              "          element.innerHTML = '';\n",
              "          dataTable['output_type'] = 'display_data';\n",
              "          await google.colab.output.renderOutput(dataTable, element);\n",
              "          const docLink = document.createElement('div');\n",
              "          docLink.innerHTML = docLinkHtml;\n",
              "          element.appendChild(docLink);\n",
              "        }\n",
              "      </script>\n",
              "    </div>\n",
              "  </div>\n",
              "  "
            ]
          },
          "metadata": {},
          "execution_count": 95
        }
      ]
    },
    {
      "cell_type": "code",
      "source": [
        "X_train.shape"
      ],
      "metadata": {
        "colab": {
          "base_uri": "https://localhost:8080/"
        },
        "id": "m4-10nBdQwnj",
        "outputId": "0ff5c7f4-765e-4f90-e76b-9646e37c2642"
      },
      "execution_count": 96,
      "outputs": [
        {
          "output_type": "execute_result",
          "data": {
            "text/plain": [
              "(5250, 1199)"
            ]
          },
          "metadata": {},
          "execution_count": 96
        }
      ]
    },
    {
      "cell_type": "code",
      "source": [],
      "metadata": {
        "id": "80ygcQ4ZQwoR"
      },
      "execution_count": 96,
      "outputs": []
    },
    {
      "cell_type": "code",
      "source": [
        "from sklearn.linear_model import LogisticRegression # importing logistic regression\n",
        "from sklearn.tree import DecisionTreeClassifier #importing decision trees classifier\n",
        "from sklearn.svm import SVC #importing svc\n"
      ],
      "metadata": {
        "id": "4ltb8n8Adbm2"
      },
      "execution_count": 97,
      "outputs": []
    },
    {
      "cell_type": "code",
      "source": [
        "import sklearn\n",
        "from sklearn import preprocessing #for preprocessing the initial dataset given ..\n",
        "\n",
        "import sklearn.metrics as metrics"
      ],
      "metadata": {
        "id": "IIFJAAxShgaW"
      },
      "execution_count": 98,
      "outputs": []
    },
    {
      "cell_type": "code",
      "source": [
        "import tensorflow as tf\n",
        "from tensorflow.keras.models import Sequential\n",
        "from tensorflow.keras.layers import Dense"
      ],
      "metadata": {
        "id": "3FZETftkRgQm"
      },
      "execution_count": 99,
      "outputs": []
    },
    {
      "cell_type": "code",
      "source": [
        "model = Sequential()\n",
        "model.add(Dense(100, activation='relu', input_dim=1199))\n",
        "model.add(Dense(64, activation='relu'))\n",
        "model.add(Dense(1, activation='sigmoid'))"
      ],
      "metadata": {
        "id": "aWXWrUMjReqD"
      },
      "execution_count": 100,
      "outputs": []
    },
    {
      "cell_type": "code",
      "source": [
        "model.compile(loss='binary_crossentropy', optimizer='adam', metrics=['accuracy'])\n"
      ],
      "metadata": {
        "id": "ePAiG7r7ResY"
      },
      "execution_count": 101,
      "outputs": []
    },
    {
      "cell_type": "code",
      "source": [
        "model.fit(X_train, y_train_string, epochs=15, batch_size=32)"
      ],
      "metadata": {
        "colab": {
          "base_uri": "https://localhost:8080/"
        },
        "id": "vX2XSBjSSFoc",
        "outputId": "77eaf019-595d-4e4a-95e8-bb3d24843613"
      },
      "execution_count": 102,
      "outputs": [
        {
          "output_type": "stream",
          "name": "stdout",
          "text": [
            "Epoch 1/15\n",
            "165/165 [==============================] - 2s 3ms/step - loss: 0.3428 - accuracy: 0.8390\n",
            "Epoch 2/15\n",
            "165/165 [==============================] - 1s 3ms/step - loss: 0.1171 - accuracy: 0.9688\n",
            "Epoch 3/15\n",
            "165/165 [==============================] - 1s 3ms/step - loss: 0.0333 - accuracy: 0.9949\n",
            "Epoch 4/15\n",
            "165/165 [==============================] - 1s 3ms/step - loss: 0.0076 - accuracy: 1.0000\n",
            "Epoch 5/15\n",
            "165/165 [==============================] - 1s 4ms/step - loss: 0.0022 - accuracy: 1.0000\n",
            "Epoch 6/15\n",
            "165/165 [==============================] - 1s 3ms/step - loss: 0.0011 - accuracy: 1.0000\n",
            "Epoch 7/15\n",
            "165/165 [==============================] - 1s 3ms/step - loss: 7.2002e-04 - accuracy: 1.0000\n",
            "Epoch 8/15\n",
            "165/165 [==============================] - 1s 3ms/step - loss: 4.9235e-04 - accuracy: 1.0000\n",
            "Epoch 9/15\n",
            "165/165 [==============================] - 1s 3ms/step - loss: 3.5538e-04 - accuracy: 1.0000\n",
            "Epoch 10/15\n",
            "165/165 [==============================] - 1s 3ms/step - loss: 2.6502e-04 - accuracy: 1.0000\n",
            "Epoch 11/15\n",
            "165/165 [==============================] - 1s 4ms/step - loss: 2.0372e-04 - accuracy: 1.0000\n",
            "Epoch 12/15\n",
            "165/165 [==============================] - 1s 5ms/step - loss: 1.5938e-04 - accuracy: 1.0000\n",
            "Epoch 13/15\n",
            "165/165 [==============================] - 1s 5ms/step - loss: 1.2678e-04 - accuracy: 1.0000\n",
            "Epoch 14/15\n",
            "165/165 [==============================] - 1s 4ms/step - loss: 1.0204e-04 - accuracy: 1.0000\n",
            "Epoch 15/15\n",
            "165/165 [==============================] - 1s 3ms/step - loss: 8.3062e-05 - accuracy: 1.0000\n"
          ]
        },
        {
          "output_type": "execute_result",
          "data": {
            "text/plain": [
              "<keras.callbacks.History at 0x7f81d9ed1d20>"
            ]
          },
          "metadata": {},
          "execution_count": 102
        }
      ]
    },
    {
      "cell_type": "code",
      "source": [],
      "metadata": {
        "id": "ygg28ru0SFpI"
      },
      "execution_count": 102,
      "outputs": []
    },
    {
      "cell_type": "code",
      "source": [
        "# model = VGG16(weights='imagenet', include_top=True)\n",
        "# X_test = preprocess_input(X_test)"
      ],
      "metadata": {
        "id": "eHmDce1lf9ED"
      },
      "execution_count": 103,
      "outputs": []
    },
    {
      "cell_type": "code",
      "source": [
        "pred = model.predict(X_test)"
      ],
      "metadata": {
        "id": "YVDR9ZimlHJ7",
        "colab": {
          "base_uri": "https://localhost:8080/"
        },
        "outputId": "0215c80f-e636-4f0b-a0d0-30d76024bae9"
      },
      "execution_count": 104,
      "outputs": [
        {
          "output_type": "stream",
          "name": "stdout",
          "text": [
            "71/71 [==============================] - 0s 2ms/step\n"
          ]
        }
      ]
    },
    {
      "cell_type": "code",
      "source": [
        "print(pred)\n"
      ],
      "metadata": {
        "colab": {
          "base_uri": "https://localhost:8080/"
        },
        "id": "FJJLvtvfVwDf",
        "outputId": "c2072452-574c-41eb-e085-f3dddb48275b"
      },
      "execution_count": 105,
      "outputs": [
        {
          "output_type": "stream",
          "name": "stdout",
          "text": [
            "[[1.1661427e-02]\n",
            " [2.0765479e-01]\n",
            " [7.7088964e-01]\n",
            " ...\n",
            " [1.0000000e+00]\n",
            " [1.8828490e-22]\n",
            " [9.9997878e-01]]\n"
          ]
        }
      ]
    },
    {
      "cell_type": "code",
      "source": [
        "pred = np.where(pred > 0.5, 1, 0)"
      ],
      "metadata": {
        "id": "xhyvBk1dXSpz"
      },
      "execution_count": 106,
      "outputs": []
    },
    {
      "cell_type": "code",
      "source": [
        "pred = pd.DataFrame(pred,columns=[\"labels\"])"
      ],
      "metadata": {
        "id": "JhEMiu8Jf9JN"
      },
      "execution_count": 107,
      "outputs": []
    },
    {
      "cell_type": "code",
      "source": [
        "sub = pd.concat([dataset1.id,pred],axis=1)\n",
        "print(sub)"
      ],
      "metadata": {
        "id": "VtyWjuv5f9OY",
        "colab": {
          "base_uri": "https://localhost:8080/"
        },
        "outputId": "777731c8-4c95-41b6-935e-6e948380d41b"
      },
      "execution_count": 108,
      "outputs": [
        {
          "output_type": "stream",
          "name": "stdout",
          "text": [
            "        id  labels\n",
            "0        1       0\n",
            "1        2       0\n",
            "2        3       1\n",
            "3        4       0\n",
            "4        5       0\n",
            "...    ...     ...\n",
            "2245  2246       0\n",
            "2246  2247       0\n",
            "2247  2248       1\n",
            "2248  2249       0\n",
            "2249  2250       1\n",
            "\n",
            "[2250 rows x 2 columns]\n"
          ]
        }
      ]
    },
    {
      "cell_type": "code",
      "source": [
        "sub.set_index('id',inplace=True)"
      ],
      "metadata": {
        "id": "ujTfc8fudbps"
      },
      "execution_count": 109,
      "outputs": []
    },
    {
      "cell_type": "code",
      "source": [
        "sub.to_csv(f\"Submission_a.csv\")"
      ],
      "metadata": {
        "id": "oeiaWnVGdbsb"
      },
      "execution_count": 110,
      "outputs": []
    },
    {
      "cell_type": "code",
      "source": [],
      "metadata": {
        "id": "GlTEqnLvata1"
      },
      "execution_count": null,
      "outputs": []
    },
    {
      "cell_type": "code",
      "source": [],
      "metadata": {
        "id": "qVKQ7qlxatd4"
      },
      "execution_count": null,
      "outputs": []
    },
    {
      "cell_type": "code",
      "source": [],
      "metadata": {
        "id": "SAUurp4Qatgk"
      },
      "execution_count": null,
      "outputs": []
    }
  ]
}